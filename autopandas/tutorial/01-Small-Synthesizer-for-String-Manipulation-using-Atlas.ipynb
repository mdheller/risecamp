{
 "cells": [
  {
   "cell_type": "markdown",
   "metadata": {},
   "source": [
    "# Introduction\n",
    "\n",
    "## AutoPandas\n",
    "\n",
    "[AutoPandas](https://autopandas.io) is a input-output example based synthesis engine for the [Pandas](https://pandas.pydata.org) data-analytics library in Python. Users provide input-output pairs (dataframes) specifying their intent, and the AutoPandas engine searches for programs using the Pandas library that transform the input to the output.\n",
    "\n",
    "## Atlas\n",
    "\n",
    "[Atlas](https://github.com/rbavishi/atlas) is the framework instantiating AutoPandas. It generalizes the key ideas behind its synthesis engine making it possible to apply them to build engines for entirely new domains such as other APIs like Numpy or Tensorflow, or domain-specific languages (DSLs) for say string-manipulation.\n",
    "\n",
    "## What are we going to learn?\n",
    "\n",
    "Pandas is a huge library, for which building a synthesizer can be quite time-consuming. Instead we are going to use the key ideas behind AutoPandas to develop a synthesis engine for **string-manipulation** using Python's `split`, `join`, `slicing` and `indexing` operators for strings and lists. Our engine will accept an input string, and the corresponding output string as the input-output example and produce a Python program using these four operators that performs the desired transformation. In the process, we will also demonstrate the key features of Atlas that can help you get started on building your own synthesis engines.\n"
   ]
  },
  {
   "cell_type": "markdown",
   "metadata": {},
   "source": [
    "### 1. The String Manipulation Task\n",
    "\n",
    "The task is to synthesize string-manipulating programs that use a combination of the `split`, `join`, `slicing` and `indexing` functionalities of Python that transform an input string to the desired output string. As an example, suppose a user wants to write a program to extract the first name from the full name of a person. The full name contains the first name and the last name separated by a space i.e. ` `. The following Python program solves the task. Here `inp` is the variable containing the input string.\n",
    "\n",
    "```python\n",
    "inp.split(' ')[0]\n",
    "```\n",
    "\n",
    "Try it out!"
   ]
  },
  {
   "cell_type": "code",
   "execution_count": 1,
   "metadata": {
    "scrolled": true
   },
   "outputs": [
    {
     "data": {
      "text/plain": [
       "'Alan'"
      ]
     },
     "execution_count": 1,
     "metadata": {},
     "output_type": "execute_result"
    }
   ],
   "source": [
    "inp = \"Alan Turing\"\n",
    "inp.split(' ')[0]"
   ]
  },
  {
   "cell_type": "markdown",
   "metadata": {},
   "source": [
    "The `split` function produces a list of strings that are separated by ` ` in the original input string. The `[0]` indexing simply picks the first string.\n",
    "\n",
    "**Exercise**: Write a program to extract the last name from the full name of a person. Again, assume the first and last names are separated by a space i.e. ` `."
   ]
  },
  {
   "cell_type": "code",
   "execution_count": 2,
   "metadata": {},
   "outputs": [
    {
     "data": {
      "text/plain": [
       "'Turing'"
      ]
     },
     "execution_count": 2,
     "metadata": {},
     "output_type": "execute_result"
    }
   ],
   "source": [
    "inp = \"Alan Turing\"\n",
    "inp.split(' ')[1]"
   ]
  },
  {
   "cell_type": "markdown",
   "metadata": {},
   "source": [
    "Similarly, we can change the separator used in a string using a combination of `split` and `join`. Such a program can be especially useful for say, changing CSV formats."
   ]
  },
  {
   "cell_type": "code",
   "execution_count": 3,
   "metadata": {},
   "outputs": [
    {
     "data": {
      "text/plain": [
       "'Alan.Turing'"
      ]
     },
     "execution_count": 3,
     "metadata": {},
     "output_type": "execute_result"
    }
   ],
   "source": [
    "inp = \"Alan,Turing\"\n",
    "\".\".join(inp.split(\",\"))"
   ]
  },
  {
   "cell_type": "markdown",
   "metadata": {},
   "source": [
    "### 2. Introduction to Generators\n",
    "\n",
    "Synthesis is fundamentally a search problem. An engine designer defines the space of valid programs and then comes up with a search algorithm to efficiently search over this space. The search space can be trivial in some cases - the set of simple arithmetic programs using variables along with addition, subtraction and multiplication operators can be concisely captured using a context-free grammar. \n",
    "\n",
    "The answer is not so simple even for the mini-language we described above using the four string-manipulation operators! The reason is that there are many implicit *constraints* that need to be satisfied by *valid* programs. For example, the string passed to `split` must be present as a substring in the string being splitted on to produce a meaningful result. *Such a constraint cannot be expressed in a grammar.*\n",
    "\n",
    "The solution used in AutoPandas and Atlas is to use **generators** that are Python functions that can express these constraints as regular code, but at the same time can express all the possibilities. Note that these generators are similar to the generators offered by Python itself, but are far more customizable, the most important of them being that they are **trainable**. Assume that all usage of the term *generator* refers to *our* notion of the generator rather than the Python generator. Nonetheless, let's quickly review our notion of a generator via a simple example.\n",
    "\n",
    "Let us try writing a generator to produce all *binary strings* of a particular length."
   ]
  },
  {
   "cell_type": "code",
   "execution_count": 4,
   "metadata": {},
   "outputs": [
    {
     "name": "stdout",
     "output_type": "stream",
     "text": [
      "00\n",
      "01\n",
      "10\n",
      "11\n"
     ]
    }
   ],
   "source": [
    "from atlas import generator\n",
    "\n",
    "@generator\n",
    "def binary(length: int):\n",
    "    result = \"\"\n",
    "    for bit in range(length):\n",
    "        result += Select([\"0\", \"1\"])\n",
    "        \n",
    "    return result\n",
    "\n",
    "for s in binary.generate(2):\n",
    "    print(s)"
   ]
  },
  {
   "cell_type": "markdown",
   "metadata": {},
   "source": [
    "Let us break down the moving parts here -\n",
    "\n",
    "1. `@generator` is a decorator used to mark a function as a generator.\n",
    "2. The `binary` function takes the length as an argument and uses a loop to construct the string.\n",
    "3. `binary` uses a special `Select` operator to **non-deterministically** choose the bit (`\"0\"` or `\"1\"`).\n",
    "4. `binary.generate` returns an iterator that explores **all** possible executions of the binary function for the given argument for length.\n",
    "5. The exploration happens in a *depth-first* manner i.e. the second `Select` returns `\"1\"` before the first `Select` explores the next value. Hence `\"01\"` is printed before `\"10\"`."
   ]
  },
  {
   "cell_type": "markdown",
   "metadata": {},
   "source": [
    "### 3. Solving a Simpler Synthesis Problem\n",
    "\n",
    "Instead of using the concept of generators introduced above to build an engine for entire mini-language we described in the first section, let us solve a simpler problem first. We will only synthesize programs of the following form -\n",
    "\n",
    "```python\n",
    "inp.split(<str>)[<int>]\n",
    "```\n",
    "\n",
    "That is, we will only produce programs that split the input on a concrete string, and then pick one of the elements produced by this splitting. Let us write a generator express all such programs given an input string."
   ]
  },
  {
   "cell_type": "code",
   "execution_count": 5,
   "metadata": {},
   "outputs": [
    {
     "name": "stdout",
     "output_type": "stream",
     "text": [
      "Program : inp.split('A')[0]\n",
      "Program : inp.split('A')[1]\n",
      "Program : inp.split('Al')[0]\n",
      "Program : inp.split('Al')[1]\n",
      "Program : inp.split('Ala')[0]\n",
      "Program : inp.split('Ala')[1]\n",
      "Program : inp.split('Alan')[0]\n",
      "Program : inp.split('Alan')[1]\n",
      "Program : inp.split('Alan ')[0]\n",
      "Program : inp.split('Alan ')[1]\n",
      "Program : inp.split('Alan T')[0]\n",
      "Program : inp.split('Alan T')[1]\n",
      "Program : inp.split('Alan Tu')[0]\n",
      "Program : inp.split('Alan Tu')[1]\n",
      "Program : inp.split('Alan Tur')[0]\n",
      "Program : inp.split('Alan Tur')[1]\n",
      "Program : inp.split('Alan Turi')[0]\n",
      "Program : inp.split('Alan Turi')[1]\n",
      "Program : inp.split('Alan Turin')[0]\n",
      "Program : inp.split('Alan Turin')[1]\n",
      "Program : inp.split('Alan Turing')[0]\n",
      "Program : inp.split('Alan Turing')[1]\n",
      "Program : inp.split('l')[0]\n",
      "Program : inp.split('l')[1]\n",
      "Program : inp.split('la')[0]\n",
      "Program : inp.split('la')[1]\n",
      "Program : inp.split('lan')[0]\n",
      "Program : inp.split('lan')[1]\n",
      "Program : inp.split('lan ')[0]\n",
      "Program : inp.split('lan ')[1]\n",
      "Program : inp.split('lan T')[0]\n",
      "Program : inp.split('lan T')[1]\n",
      "Program : inp.split('lan Tu')[0]\n",
      "Program : inp.split('lan Tu')[1]\n",
      "Program : inp.split('lan Tur')[0]\n",
      "Program : inp.split('lan Tur')[1]\n",
      "Program : inp.split('lan Turi')[0]\n",
      "Program : inp.split('lan Turi')[1]\n",
      "Program : inp.split('lan Turin')[0]\n",
      "Program : inp.split('lan Turin')[1]\n",
      "Program : inp.split('lan Turing')[0]\n",
      "Program : inp.split('lan Turing')[1]\n",
      "Program : inp.split('a')[0]\n",
      "Program : inp.split('a')[1]\n",
      "Program : inp.split('an')[0]\n",
      "Program : inp.split('an')[1]\n",
      "Program : inp.split('an ')[0]\n",
      "Program : inp.split('an ')[1]\n",
      "Program : inp.split('an T')[0]\n",
      "Program : inp.split('an T')[1]\n",
      "Program : inp.split('an Tu')[0]\n",
      "Program : inp.split('an Tu')[1]\n",
      "Program : inp.split('an Tur')[0]\n",
      "Program : inp.split('an Tur')[1]\n",
      "Program : inp.split('an Turi')[0]\n",
      "Program : inp.split('an Turi')[1]\n",
      "Program : inp.split('an Turin')[0]\n",
      "Program : inp.split('an Turin')[1]\n",
      "Program : inp.split('an Turing')[0]\n",
      "Program : inp.split('an Turing')[1]\n",
      "Program : inp.split('n')[0]\n",
      "Program : inp.split('n')[1]\n",
      "Program : inp.split('n')[2]\n",
      "Program : inp.split('n ')[0]\n",
      "Program : inp.split('n ')[1]\n",
      "Program : inp.split('n T')[0]\n",
      "Program : inp.split('n T')[1]\n",
      "Program : inp.split('n Tu')[0]\n",
      "Program : inp.split('n Tu')[1]\n",
      "Program : inp.split('n Tur')[0]\n",
      "Program : inp.split('n Tur')[1]\n",
      "Program : inp.split('n Turi')[0]\n",
      "Program : inp.split('n Turi')[1]\n",
      "Program : inp.split('n Turin')[0]\n",
      "Program : inp.split('n Turin')[1]\n",
      "Program : inp.split('n Turing')[0]\n",
      "Program : inp.split('n Turing')[1]\n",
      "Program : inp.split(' ')[0]\n",
      "Program : inp.split(' ')[1]\n",
      "Program : inp.split(' T')[0]\n",
      "Program : inp.split(' T')[1]\n",
      "Program : inp.split(' Tu')[0]\n",
      "Program : inp.split(' Tu')[1]\n",
      "Program : inp.split(' Tur')[0]\n",
      "Program : inp.split(' Tur')[1]\n",
      "Program : inp.split(' Turi')[0]\n",
      "Program : inp.split(' Turi')[1]\n",
      "Program : inp.split(' Turin')[0]\n",
      "Program : inp.split(' Turin')[1]\n",
      "Program : inp.split(' Turing')[0]\n",
      "Program : inp.split(' Turing')[1]\n",
      "Program : inp.split('T')[0]\n",
      "Program : inp.split('T')[1]\n",
      "Program : inp.split('Tu')[0]\n",
      "Program : inp.split('Tu')[1]\n",
      "Program : inp.split('Tur')[0]\n",
      "Program : inp.split('Tur')[1]\n",
      "Program : inp.split('Turi')[0]\n",
      "Program : inp.split('Turi')[1]\n",
      "Program : inp.split('Turin')[0]\n",
      "Program : inp.split('Turin')[1]\n",
      "Program : inp.split('Turing')[0]\n",
      "Program : inp.split('Turing')[1]\n",
      "Program : inp.split('u')[0]\n",
      "Program : inp.split('u')[1]\n",
      "Program : inp.split('ur')[0]\n",
      "Program : inp.split('ur')[1]\n",
      "Program : inp.split('uri')[0]\n",
      "Program : inp.split('uri')[1]\n",
      "Program : inp.split('urin')[0]\n",
      "Program : inp.split('urin')[1]\n",
      "Program : inp.split('uring')[0]\n",
      "Program : inp.split('uring')[1]\n",
      "Program : inp.split('r')[0]\n",
      "Program : inp.split('r')[1]\n",
      "Program : inp.split('ri')[0]\n",
      "Program : inp.split('ri')[1]\n",
      "Program : inp.split('rin')[0]\n",
      "Program : inp.split('rin')[1]\n",
      "Program : inp.split('ring')[0]\n",
      "Program : inp.split('ring')[1]\n",
      "Program : inp.split('i')[0]\n",
      "Program : inp.split('i')[1]\n",
      "Program : inp.split('in')[0]\n",
      "Program : inp.split('in')[1]\n",
      "Program : inp.split('ing')[0]\n",
      "Program : inp.split('ing')[1]\n",
      "Program : inp.split('n')[0]\n",
      "Program : inp.split('n')[1]\n",
      "Program : inp.split('n')[2]\n",
      "Program : inp.split('ng')[0]\n",
      "Program : inp.split('ng')[1]\n",
      "Program : inp.split('g')[0]\n",
      "Program : inp.split('g')[1]\n"
     ]
    }
   ],
   "source": [
    "@generator\n",
    "def splitting_program(inp: str):\n",
    "    #  We choose the separator to be a substring of the input string.\n",
    "    #  We do this by calling the special Substr operator to **non-deterministically* return a substring\n",
    "    sep: str = Substr(inp)\n",
    "        \n",
    "    #  Perform the split so we know how many splits there are.\n",
    "    splits = inp.split(sep)\n",
    "    \n",
    "    #  Now choose a number from 0 to len(splits)\n",
    "    index = Select(range(0, len(splits)))\n",
    "    \n",
    "    #  Construct the program as a string using `sep` and `index`\n",
    "    return f\"inp.split('{sep}')[{index}]\"\n",
    "\n",
    "for prog in splitting_program.generate(\"Alan Turing\"):\n",
    "    print(\"Program :\", prog)"
   ]
  },
  {
   "cell_type": "markdown",
   "metadata": {},
   "source": [
    "Let's use this generator to build a simple brute-force synthesizer!"
   ]
  },
  {
   "cell_type": "code",
   "execution_count": 6,
   "metadata": {},
   "outputs": [
    {
     "name": "stdout",
     "output_type": "stream",
     "text": [
      "Found Solution : inp.split('Alan ')[1]\n",
      "Found Solution : inp.split('lan ')[1]\n",
      "Found Solution : inp.split('an ')[1]\n",
      "Found Solution : inp.split('n ')[1]\n",
      "Found Solution : inp.split(' ')[1]\n"
     ]
    }
   ],
   "source": [
    "def synthesize(inp, out):\n",
    "    for prog in splitting_program.generate(inp):\n",
    "        if eval(prog, {'inp': inp}) == out:\n",
    "            print(\"Found Solution :\", prog)\n",
    "            \n",
    "synthesize(\"Alan Turing\", \"Turing\")"
   ]
  },
  {
   "cell_type": "markdown",
   "metadata": {},
   "source": [
    "It found the program you wrote in the string manipulation exercise!\n",
    "\n",
    "```python\n",
    "inp.split(' ')[1]\n",
    "```\n",
    "\n",
    "But only after it found a number of *over-fitting* solutions; solutions that we probably wouldn't write ourselves given what we know about the problem.\n",
    "\n",
    "```python\n",
    "inp.split('Alan ')[1]\n",
    "inp.split('lan ')[1]\n",
    "inp.split('an ')[1]\n",
    "inp.split('n ')[1]\n",
    "```\n",
    "\n",
    "#### Key Question : Can we *train* our generator to produce the more \"*viable*\" solutions first?"
   ]
  },
  {
   "cell_type": "markdown",
   "metadata": {},
   "source": [
    "### 4. Training our Simple Generator\n",
    "\n",
    "We wish to train our generator, in particular the call to the `Substr` operator, to explore *meaningful* values first. This can be achieved by **backing** the `Substr` operator with a *neural-network* model that looks at the input-output example, and accordingly reorders the possible substrings in the descending order of their probabilities (viability/meaningfulness). But first, we will need to tell the `Substr` operator what the input-output example is. This can be achieved by passing it as a `context`."
   ]
  },
  {
   "cell_type": "code",
   "execution_count": 7,
   "metadata": {},
   "outputs": [],
   "source": [
    "@generator\n",
    "def splitting_program_smart(inp: str, out: str):  # CHANGED : We're taking output as an argument now.\n",
    "    sep: str = Substr(inp, context=(inp, out))  # CHANGED : Passing the tuple (inp, out) as context\n",
    "    splits = inp.split(sep) \n",
    "    index = Select(range(0, len(splits)))\n",
    "    \n",
    "    #  Construct the program as a string using `sep` and `index`\n",
    "    return f\"inp.split('{sep}')[{index}]\"\n",
    "\n",
    "def synthesize_smart(inp, out):\n",
    "    for prog in splitting_program_smart.generate(inp, out):  # CHANGED : Passing out as an argumen\n",
    "        if eval(prog, {'inp': inp}) == out:\n",
    "            print(\"Found Solution :\", prog)"
   ]
  },
  {
   "cell_type": "markdown",
   "metadata": {},
   "source": [
    "Now let's define a model for our generator. We'll use a graph-neural-network model which encodes characters of a string as nodes in a graph, and has edges to capture both the adjacency between characters within a string, and equality amongst characters. In the interest of time, instead of going into the specifics of the model itself, we'll focus on integrating these models with our generator.\n",
    "\n",
    "##### TODO : Have a diagram for the graph-encoding described above."
   ]
  },
  {
   "cell_type": "code",
   "execution_count": 8,
   "metadata": {},
   "outputs": [],
   "source": [
    "from atlas.operators import operator\n",
    "from atlas.models.pytorch.imitation import PyTorchGeneratorSharedStateModel\n",
    "from string_models import SubstrModel\n",
    "\n",
    "import torch\n",
    "\n",
    "class SmallGeneratorModel(PyTorchGeneratorSharedStateModel):\n",
    "    @operator\n",
    "    def Substr(self, *args, **kwargs):\n",
    "        return SubstrModel(node_dim=10)\n",
    "    \n",
    "    def get_initial_state(self):\n",
    "        return torch.zeros(1, 10)"
   ]
  },
  {
   "cell_type": "markdown",
   "metadata": {},
   "source": [
    "The `SmallGeneratorModel` specifies that the Substr operator should use the `SubstrModel` definition. Let's get some training data for our generator."
   ]
  },
  {
   "cell_type": "code",
   "execution_count": 9,
   "metadata": {},
   "outputs": [],
   "source": [
    "import pickle\n",
    "from urllib.request import urlopen\n",
    "data = pickle.load(urlopen(\"https://risecamp2019-atlas.s3.us-east-2.amazonaws.com/string_dataset_small.pkl\"))"
   ]
  },
  {
   "cell_type": "code",
   "execution_count": 10,
   "metadata": {},
   "outputs": [
    {
     "data": {
      "text/plain": [
       "\n",
       "        GeneratorTrace(inputs=(('Uzair___Naylor', 'Naylor'), {}),\n",
       "                       op_traces=[\n",
       "OpTrace(op_info=OpInfo(sid='/splitting_program_smart/Substr@@1', gen_name='splitting_program_smart', op_type='Substr', index=1, gen_group=None, uid=None, tags=None),\n",
       "        choice='___',\n",
       "        domain='Uzair___Naylor',\n",
       "        context=('Uzair___Naylor', 'Naylor'),\n",
       "        **{}\n",
       "       ), \n",
       "OpTrace(op_info=OpInfo(sid='/splitting_program_smart/Select@@1', gen_name='splitting_program_smart', op_type='Select', index=1, gen_group=None, uid=None, tags=None),\n",
       "        choice=1,\n",
       "        domain=range(0, 2),\n",
       "        context=None,\n",
       "        **{}\n",
       "       )]"
      ]
     },
     "execution_count": 10,
     "metadata": {},
     "output_type": "execute_result"
    }
   ],
   "source": [
    "data[0]"
   ]
  },
  {
   "cell_type": "markdown",
   "metadata": {},
   "source": [
    "The dataset contains *traces* of generators. These are executions of the generator that produce the program we desire. In each case, the `choice` field contains the *correct* choice to be made by each of the special `Substr` and `Select` operators in the generator to produce the correct program. Atlas allows us to *directly* train on these traces."
   ]
  },
  {
   "cell_type": "code",
   "execution_count": 14,
   "metadata": {
    "scrolled": true
   },
   "outputs": [
    {
     "name": "stdout",
     "output_type": "stream",
     "text": [
      "[Epoch 0] Training Loss: 0.1674 Training Acc: 0.08\n",
      "[Epoch 0] Validation Loss: 0.0930 Validation Acc: 0.19\n",
      "[Epoch 1] Training Loss: 0.0586 Training Acc: 0.40\n",
      "[Epoch 1] Validation Loss: 0.0437 Validation Acc: 0.67\n",
      "[Epoch 2] Training Loss: 0.0293 Training Acc: 0.76\n",
      "[Epoch 2] Validation Loss: 0.0137 Validation Acc: 0.96\n",
      "[Epoch 3] Training Loss: 0.0050 Training Acc: 1.00\n",
      "[Epoch 3] Validation Loss: 0.0020 Validation Acc: 1.00\n",
      "[Epoch 4] Training Loss: 0.0010 Training Acc: 1.00\n",
      "[Epoch 4] Validation Loss: 0.0007 Validation Acc: 1.00\n"
     ]
    }
   ],
   "source": [
    "model = SmallGeneratorModel()\n",
    "train_data = data[:250]\n",
    "valid_data = data[250:]\n",
    "model.train(train_data, valid_data, num_epochs=5)"
   ]
  },
  {
   "cell_type": "code",
   "execution_count": 15,
   "metadata": {},
   "outputs": [
    {
     "name": "stdout",
     "output_type": "stream",
     "text": [
      "Found Solution : inp.split('  ')[1]\n",
      "Found Solution : inp.split(' ')[2]\n",
      "Found Solution : inp.split(' ')[2]\n",
      "Found Solution : inp.split('Alan  ')[1]\n",
      "Found Solution : inp.split('lan  ')[1]\n"
     ]
    }
   ],
   "source": [
    "splitting_program_smart.set_default_model(model)\n",
    "synthesize_smart(\"Alan  Turing\", \"Turing\")"
   ]
  },
  {
   "cell_type": "markdown",
   "metadata": {},
   "source": [
    "The correct solution was printed first! Since we have trained our generator, it can also work on very large strings, for which brute-force enumeration might be slow to get to the right one."
   ]
  },
  {
   "cell_type": "code",
   "execution_count": 16,
   "metadata": {},
   "outputs": [
    {
     "name": "stdout",
     "output_type": "stream",
     "text": [
      "Found Solution : inp.split('  ')[1]\n",
      "Found Solution : inp.split('_Alan  ')[1]\n",
      "Found Solution : inp.split(' ')[2]\n",
      "Found Solution : inp.split(' ')[2]\n"
     ]
    }
   ],
   "source": [
    "synthesize_smart(\"WowSuchALongPrefixCanBlowThingsUpQuiteABit_Alan  Turing\", \"Turing\")"
   ]
  },
  {
   "cell_type": "markdown",
   "metadata": {},
   "source": [
    "## Up Next : Building a Synthesizer for the Full Mini-Language\n",
    "\n",
    "Enough with toy problems! In the next tutorial, we will build a synthesis engine for the full mini-language using `join`, `split`, `slicing` and `indexing`. "
   ]
  }
 ],
 "metadata": {
  "kernelspec": {
   "display_name": "Python 3",
   "language": "python",
   "name": "python3"
  },
  "language_info": {
   "codemirror_mode": {
    "name": "ipython",
    "version": 3
   },
   "file_extension": ".py",
   "mimetype": "text/x-python",
   "name": "python",
   "nbconvert_exporter": "python",
   "pygments_lexer": "ipython3",
   "version": "3.7.1"
  }
 },
 "nbformat": 4,
 "nbformat_minor": 2
}
