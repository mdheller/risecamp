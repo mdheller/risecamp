{
 "cells": [
  {
   "cell_type": "markdown",
   "metadata": {},
   "source": [
    "## Recap\n",
    "### The String Manipulation Task\n",
    "\n",
    "The task is to synthesize string-manipulating programs that use a combination of the `split`, `join` and `indexing` functionalities of Python that transform an input string to the desired output string. As an example, suppose a user wants to write a program to extract the first name from the full name of a person. The full name contains the first name and the last name separated by a space i.e. ` `. The following Python program solves the task. Here `inp` is the variable containing the input string.\n",
    "\n",
    "```python\n",
    "inp.split(' ')[0]\n",
    "```"
   ]
  },
  {
   "cell_type": "markdown",
   "metadata": {},
   "source": [
    "## Writing a Synthesis for a Language containing `split`, `join` and `indexing`\n",
    "\n",
    "As mentioned in the previous tutorial, we will now write a generator for the full mini-language we introduced. In particular, we will write a generator that will produce all programs using these primitives. First let us formally define the language.\n",
    "\n",
    "Let `S` be a program that takes an input string or list of strings (as in `join`) and produces an output string. Let `L` be a program that takes an input string and produces an output list of strings (as in `split`). Then our programs of interest can be succinctly expressed using the following grammar -\n",
    "\n",
    "```\n",
    "S ::= inp | substring of input | substring of output | L[i] | S.join(L)\n",
    "L ::= S.split(S)\n",
    "```\n",
    "\n",
    "Here `L[i]` is the indexing operation. Notice we include substring extraction of the input/output. This is to express the constant splitting/join strings often used with `split` and `join`."
   ]
  },
  {
   "cell_type": "markdown",
   "metadata": {},
   "source": [
    "## 1. Writing the Generator\n",
    "\n",
    "Here are two top-level generators for `S` and `L`. We use a `depth` parameter to bound the nesting of function calls. Along with the program, we simultaneously compute the result of the program as well for convenience."
   ]
  },
  {
   "cell_type": "code",
   "execution_count": 1,
   "metadata": {},
   "outputs": [],
   "source": [
    "from atlas import generator\n",
    "from atlas.exceptions import ExceptionAsContinue\n",
    "\n",
    "\n",
    "@generator\n",
    "def gen_str_program(inp, out, depth=0, max_depth=3):\n",
    "    if depth >= max_depth:\n",
    "        raise ExceptionAsContinue\n",
    "        \n",
    "    operation = Select([\"Inp\", \"ConstInp\", \"ConstOut\", \"Index\", \"Join\"], context=(inp, out), uid=\"1\")\n",
    "    if operation == \"Inp\":\n",
    "        return inp, \"inp\"\n",
    "    \n",
    "    if operation == \"ConstInp\":\n",
    "        substr = Substr(inp, context=(inp, out))\n",
    "        return substr, f\"'{substr}'\"\n",
    "    \n",
    "    if operation == \"ConstOut\":\n",
    "        substr = Substr(out, context=(inp, out))\n",
    "        return substr, f\"'{substr}'\"\n",
    "    \n",
    "    if operation == \"Index\":\n",
    "        #  Generate a program that produces a list of strings\n",
    "        strlist, list_prog = gen_strlist_program(inp, out, depth=depth+1, max_depth=max_depth)\n",
    "        index = Select(range(len(strlist)))  # Use the result of the list-program to bound the number indices!\n",
    "        return strlist[index], f\"{list_prog}[{index}]\"\n",
    "    \n",
    "    if operation == \"Join\":\n",
    "        return gen_join_programs(inp, out, depth=depth, max_depth=max_depth)\n",
    "        \n",
    "        \n",
    "@generator\n",
    "def gen_strlist_program(inp, out, depth=0, max_depth=3):\n",
    "    tosplit_str, tosplit_prog = gen_str_program(inp, out, depth=depth + 1, max_depth=max_depth)\n",
    "    sep_str, sep_prog = gen_str_program(inp, out, depth=depth + 1, max_depth=max_depth)\n",
    "    \n",
    "    return tosplit_str.split(sep_str), f\"{tosplit_prog}.split({sep_prog})\""
   ]
  },
  {
   "cell_type": "markdown",
   "metadata": {},
   "source": [
    "#### Exercise: Finish the `gen_join_programs` Generator"
   ]
  },
  {
   "cell_type": "code",
   "execution_count": 2,
   "metadata": {},
   "outputs": [],
   "source": [
    "@generator\n",
    "def gen_join_programs(inp, out, depth=0, max_depth=3):\n",
    "    join_str, str_prog = gen_str_program(inp, out, depth=depth + 1, max_depth=max_depth)\n",
    "    #  FILL IN THE RHS HERE\n",
    "    strlist, list_prog = gen_strlist_program(inp, out, depth=depth + 1, max_depth=max_depth)\n",
    "    \n",
    "    return join_str.join(strlist), f\"{str_prog}.join({list_prog})\""
   ]
  },
  {
   "cell_type": "markdown",
   "metadata": {},
   "source": [
    "Let's check out some of the programs it generates!"
   ]
  },
  {
   "cell_type": "code",
   "execution_count": 3,
   "metadata": {},
   "outputs": [
    {
     "name": "stdout",
     "output_type": "stream",
     "text": [
      "Program : inp\n",
      "Program : inp\n",
      "Program : inp.split('a')[1]\n",
      "Program : 'lan '\n",
      "Program : 'la'\n"
     ]
    }
   ],
   "source": [
    "for res, prog in gen_str_program.generate(\"Alan Turing\", \"Alan\").with_strategy('randomized').first(k=5):\n",
    "    print(\"Program :\", prog)"
   ]
  },
  {
   "cell_type": "markdown",
   "metadata": {},
   "source": [
    "## 2. Defining the Model\n",
    "\n",
    "The real drivers of this generator are the top-level Select (choosing the operation) and the substring operators. So we'll define a model for them.\n",
    "\n",
    "TODO : Model Description Diagram"
   ]
  },
  {
   "cell_type": "code",
   "execution_count": 4,
   "metadata": {},
   "outputs": [],
   "source": [
    "from atlas.operators import operator\n",
    "from atlas.models.pytorch.imitation import PyTorchGeneratorSharedStateModel\n",
    "from string_models import SubstrModel, SelectFuncModel\n",
    "\n",
    "class MasterModel(PyTorchGeneratorSharedStateModel):\n",
    "    @operator(name='Substr')\n",
    "    def substr_model(self, *args, **kwargs):\n",
    "        return SubstrModel(node_dim=10)\n",
    "\n",
    "    @operator(name='Select', uid=\"1\")\n",
    "    def select_func_model(self, *args, **kwargs):\n",
    "        return SelectFuncModel(node_dim=10, num_classes=5)"
   ]
  },
  {
   "cell_type": "markdown",
   "metadata": {},
   "source": [
    "## 3. Task-1 Training\n",
    "\n",
    "For the purpose of this tutorial, we'll train the generator to specialize towards two tasks -\n",
    "\n",
    "(1) Extraction via splitting (`split`)\n",
    "\n",
    "(2) Separator replacement (`split` followed by `join`)\n",
    "\n",
    "Let's load some training data for that."
   ]
  },
  {
   "cell_type": "code",
   "execution_count": 5,
   "metadata": {},
   "outputs": [
    {
     "name": "stdout",
     "output_type": "stream",
     "text": [
      "\n",
      "        GeneratorTrace(inputs=(('Emma.Aaron', 'Emma__Aaron'), {}),\n",
      "                       op_traces=[\n",
      "OpTrace(op_info=OpInfo(sid='/gen_str_program/Select@1@1', gen_name='gen_str_program', op_type='Select', index=1, gen_group=None, uid='1', tags=None),\n",
      "        choice='Join',\n",
      "        domain=['Inp', 'ConstInp', 'ConstOut', 'Index', 'Join'],\n",
      "        context=('Emma.Aaron', 'Emma__Aaron'),\n",
      "        **{}\n",
      "       ), \n",
      "OpTrace(op_info=OpInfo(sid='/gen_str_program/Select@1@1', gen_name='gen_str_program', op_type='Select', index=1, gen_group=None, uid='1', tags=None),\n",
      "        choice='ConstOut',\n",
      "        domain=['Inp', 'ConstInp', 'ConstOut', 'Index', 'Join'],\n",
      "        context=('Emma.Aaron', 'Emma__Aaron'),\n",
      "        **{}\n",
      "       ), \n",
      "OpTrace(op_info=OpInfo(sid='/gen_str_program/Substr@@2', gen_name='gen_str_program', op_type='Substr', index=2, gen_group=None, uid=None, tags=None),\n",
      "        choice='__',\n",
      "        domain='Emma__Aaron',\n",
      "        context=('Emma.Aaron', 'Emma__Aaron'),\n",
      "        **{}\n",
      "       ), \n",
      "OpTrace(op_info=OpInfo(sid='/gen_str_program/Select@1@1', gen_name='gen_str_program', op_type='Select', index=1, gen_group=None, uid='1', tags=None),\n",
      "        choice='Inp',\n",
      "        domain=['Inp', 'ConstInp', 'ConstOut', 'Index', 'Join'],\n",
      "        context=('Emma.Aaron', 'Emma__Aaron'),\n",
      "        **{}\n",
      "       ), \n",
      "OpTrace(op_info=OpInfo(sid='/gen_str_program/Select@1@1', gen_name='gen_str_program', op_type='Select', index=1, gen_group=None, uid='1', tags=None),\n",
      "        choice='ConstInp',\n",
      "        domain=['Inp', 'ConstInp', 'ConstOut', 'Index', 'Join'],\n",
      "        context=('Emma.Aaron', 'Emma__Aaron'),\n",
      "        **{}\n",
      "       ), \n",
      "OpTrace(op_info=OpInfo(sid='/gen_str_program/Substr@@1', gen_name='gen_str_program', op_type='Substr', index=1, gen_group=None, uid=None, tags=None),\n",
      "        choice='.',\n",
      "        domain='Emma.Aaron',\n",
      "        context=('Emma.Aaron', 'Emma__Aaron'),\n",
      "        **{}\n",
      "       )]\n",
      "\n",
      "\n",
      "        GeneratorTrace(inputs=(('Emma.Aaron', 'Emma'), {}),\n",
      "                       op_traces=[\n",
      "OpTrace(op_info=OpInfo(sid='/gen_str_program/Select@1@1', gen_name='gen_str_program', op_type='Select', index=1, gen_group=None, uid='1', tags=None),\n",
      "        choice='Index',\n",
      "        domain=['Inp', 'ConstInp', 'ConstOut', 'Index', 'Join'],\n",
      "        context=('Emma.Aaron', 'Emma'),\n",
      "        **{}\n",
      "       ), \n",
      "OpTrace(op_info=OpInfo(sid='/gen_str_program/Select@1@1', gen_name='gen_str_program', op_type='Select', index=1, gen_group=None, uid='1', tags=None),\n",
      "        choice='Inp',\n",
      "        domain=['Inp', 'ConstInp', 'ConstOut', 'Index', 'Join'],\n",
      "        context=('Emma.Aaron', 'Emma'),\n",
      "        **{}\n",
      "       ), \n",
      "OpTrace(op_info=OpInfo(sid='/gen_str_program/Select@1@1', gen_name='gen_str_program', op_type='Select', index=1, gen_group=None, uid='1', tags=None),\n",
      "        choice='ConstInp',\n",
      "        domain=['Inp', 'ConstInp', 'ConstOut', 'Index', 'Join'],\n",
      "        context=('Emma.Aaron', 'Emma'),\n",
      "        **{}\n",
      "       ), \n",
      "OpTrace(op_info=OpInfo(sid='/gen_str_program/Substr@@1', gen_name='gen_str_program', op_type='Substr', index=1, gen_group=None, uid=None, tags=None),\n",
      "        choice='.',\n",
      "        domain='Emma.Aaron',\n",
      "        context=('Emma.Aaron', 'Emma'),\n",
      "        **{}\n",
      "       ), \n",
      "OpTrace(op_info=OpInfo(sid='/gen_str_program/Select@@1', gen_name='gen_str_program', op_type='Select', index=1, gen_group=None, uid=None, tags=None),\n",
      "        choice=0,\n",
      "        domain=range(0, 2),\n",
      "        context=None,\n",
      "        **{}\n",
      "       )]\n",
      "\n"
     ]
    }
   ],
   "source": [
    "import pickle\n",
    "from urllib.request import urlopen\n",
    "data = pickle.load(urlopen(\"https://risecamp2019-atlas.s3.us-east-2.amazonaws.com/string_dataset_medium.pkl\"))\n",
    "\n",
    "print(data[0])\n",
    "print(data[1])"
   ]
  },
  {
   "cell_type": "markdown",
   "metadata": {},
   "source": [
    "Let's train!"
   ]
  },
  {
   "cell_type": "code",
   "execution_count": 17,
   "metadata": {},
   "outputs": [
    {
     "name": "stdout",
     "output_type": "stream",
     "text": [
      "[Epoch 0] Training Loss: 3.3169 Training Acc: 0.01\n",
      "[Epoch 0] Validation Loss: 2.4109 Validation Acc: 0.04\n",
      "[Epoch 1] Training Loss: 1.5975 Training Acc: 0.08\n",
      "[Epoch 1] Validation Loss: 1.0876 Validation Acc: 0.17\n",
      "[Epoch 2] Training Loss: 0.8878 Training Acc: 0.17\n",
      "[Epoch 2] Validation Loss: 0.6487 Validation Acc: 0.17\n",
      "[Epoch 3] Training Loss: 0.6299 Training Acc: 0.19\n",
      "[Epoch 3] Validation Loss: 0.9274 Validation Acc: 0.22\n",
      "[Epoch 4] Training Loss: 0.5846 Training Acc: 0.24\n",
      "[Epoch 4] Validation Loss: 0.4336 Validation Acc: 0.39\n",
      "[Epoch 5] Training Loss: 0.4931 Training Acc: 0.47\n",
      "[Epoch 5] Validation Loss: 0.6275 Validation Acc: 0.54\n",
      "[Epoch 6] Training Loss: 0.4281 Training Acc: 0.54\n",
      "[Epoch 6] Validation Loss: 0.3361 Validation Acc: 0.55\n",
      "[Epoch 7] Training Loss: 0.3950 Training Acc: 0.54\n",
      "[Epoch 7] Validation Loss: 0.4137 Validation Acc: 0.56\n",
      "[Epoch 8] Training Loss: 0.3694 Training Acc: 0.54\n",
      "[Epoch 8] Validation Loss: 0.3010 Validation Acc: 0.54\n",
      "[Epoch 9] Training Loss: 0.3305 Training Acc: 0.54\n",
      "[Epoch 9] Validation Loss: 0.3014 Validation Acc: 0.56\n"
     ]
    }
   ],
   "source": [
    "model = MasterModel(state_dim=10, learning_rate=0.01)\n",
    "train = data[:200]\n",
    "valid = data[200:]\n",
    "model.train(train, valid, num_epochs=10)"
   ]
  },
  {
   "cell_type": "code",
   "execution_count": 20,
   "metadata": {},
   "outputs": [],
   "source": [
    "def synthesize(inp, out):\n",
    "    for res, prog in gen_str_program.generate(inp, out).with_model(model).first(k=500):\n",
    "        if res == out:\n",
    "            print(\"Solution Found :\", prog)"
   ]
  },
  {
   "cell_type": "code",
   "execution_count": 22,
   "metadata": {},
   "outputs": [
    {
     "name": "stdout",
     "output_type": "stream",
     "text": [
      "Solution Found : '.'.join(inp.split(' '))\n",
      "Solution Found : '.'.join(inp.split(' '))\n"
     ]
    }
   ],
   "source": [
    "synthesize(\"Alan Mathison Turing\", \"Alan.Mathison.Turing\")"
   ]
  },
  {
   "cell_type": "markdown",
   "metadata": {},
   "source": [
    "Great! Feel free to try input-outputs of your own. Be aware that this generator has only been trained on two tasks, and that too on limited amount of data, so it may not work quite as well."
   ]
  },
  {
   "cell_type": "markdown",
   "metadata": {},
   "source": [
    "## Full Training\n",
    "\n",
    "We've already trained the generator on large amounts of data containing many tasks. You can test out the synthesizer here.\n",
    "\n",
    "## TODO"
   ]
  }
 ],
 "metadata": {
  "kernelspec": {
   "display_name": "Python 3",
   "language": "python",
   "name": "python3"
  },
  "language_info": {
   "codemirror_mode": {
    "name": "ipython",
    "version": 3
   },
   "file_extension": ".py",
   "mimetype": "text/x-python",
   "name": "python",
   "nbconvert_exporter": "python",
   "pygments_lexer": "ipython3",
   "version": "3.7.1"
  }
 },
 "nbformat": 4,
 "nbformat_minor": 2
}
