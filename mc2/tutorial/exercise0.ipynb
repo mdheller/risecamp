{
 "cells": [
  {
   "cell_type": "markdown",
   "metadata": {},
   "source": [
    "# MC<sup>2</sup> : Multiparty Collaboration & Coopetition\n",
    "\n",
    "MC<sup>2</sup> contains a series of subprojects in the RISE Lab, all pertaining to <strong><u>M</u></strong>ultiparty <strong><u>C</u></strong>ollaboration and <strong><u>C</u></strong>oopetition. \n",
    "The particular project we'll be demonstrating today is Federated XGBoost, an extension of the <a href=\"https://xgboost.readthedocs.io/en/latest/\">XGBoost</a> framework to the federated setting. \n",
    "\n",
    "The federated setting allows multiple parties train a model over their collective data with the help of a centralized *aggregator* server. Instead of sending their entire data to the aggregator, the parties only send summary statistics. This provides two benefits: (a) it conserves bandwidth, and (b) it limits the amount of information leaked to other parties in the federation.\n",
    "\n",
    "You can find the codebase for the MC<sup>2</sup> project here: https://github.com/mc2-project/mc2"
   ]
  },
  {
   "cell_type": "markdown",
   "metadata": {},
   "source": [
    "## HIGGS Dataset\n",
    "Higgs boson is an elementary particle in physics, created by the quantum excitation of the Higgs field. Each record in the dataset represents a signal process, and each record contains features that represent kinematic properties measured by particle detectors in the accelerator. Using these features, the task is to determine whether a signal process is one that will produce Higgs bosons or one that will not."
   ]
  },
  {
   "cell_type": "markdown",
   "metadata": {},
   "source": [
    "## Setup"
   ]
  },
  {
   "cell_type": "markdown",
   "metadata": {},
   "source": [
    "During the setup phase, the parties first form a federation.\n",
    "\n",
    "To simulate a federation, please get into groups of 4. Choose one member of the team to act as the centralized aggregator. \n",
    "<!--\n",
    "Assign all other members of the federation a party ID from 1 to 3.\n",
    "Create a Slack channel or group message and add all members of your federation.\n",
    "-->"
   ]
  },
  {
   "cell_type": "markdown",
   "metadata": {},
   "source": [
    "### 1. Public key infrastructure (PKI) ###\n",
    "\n",
    "We have created a mock PKI service for the purpose of this tutorial. In this section of the tutorial, you will upload your public keys to the PKI service, and obtain the public key of the other members of the federation. \n",
    "\n",
    "To use our mock service, you can use the following API:\n",
    "\n",
    "```python \n",
    "class PKI:\n",
    "     # No input arguments; connects to the PKI service\n",
    "    def __init__(self):\n",
    "        \n",
    "    # uploads the user's IP and public key to the PKI service; returns None\n",
    "    def upload(self, username, ip_address, public_key):\n",
    "        \n",
    "    # Retrieves the IP and public key for user <username>\n",
    "    def lookup(self, username):\n",
    "```"
   ]
  },
  {
   "cell_type": "markdown",
   "metadata": {},
   "source": [
    "Upload your username (i.e., the email you used to log into the tutorial portal), IP address, and public key to the lookup service."
   ]
  },
  {
   "cell_type": "code",
   "execution_count": null,
   "metadata": {},
   "outputs": [],
   "source": [
    "from Utils import PKI\n",
    "from requests import get\n",
    "from os.path import expanduser\n",
    "\n",
    "# TODO: Add your email address as your username\n",
    "username = \"\"\n",
    "\n",
    "# Get your public IP address\n",
    "IP = get('https://api.ipify.org').text\n",
    "\n",
    "# Get your public key\n",
    "pubkey = open(expanduser(\"~\") + '/.ssh/id_rsa.pub').read().strip()"
   ]
  },
  {
   "cell_type": "code",
   "execution_count": null,
   "metadata": {},
   "outputs": [],
   "source": [
    "# TODO: Connect to the PKI service and upload your IP address and public key\n",
    "pki = PKI()\n",
    "# ..."
   ]
  },
  {
   "cell_type": "markdown",
   "metadata": {},
   "source": [
    "Verify that your information has been uploaded using `lookup()`."
   ]
  },
  {
   "cell_type": "code",
   "execution_count": null,
   "metadata": {},
   "outputs": [],
   "source": [
    "# TODO: Verify that your information has been uploaded by using the lookup() API \n",
    "# ..."
   ]
  },
  {
   "cell_type": "markdown",
   "metadata": {},
   "source": [
    "### 2. Federation ###\n",
    "\n",
    "You will now use the Federation API to create and join a federation of participants. One participant will act as the centralized aggregator for the purposes of this tutorial. Before proceeding, confer with the other members of your federation and elect the aggregator.\n",
    "\n",
    "Once your team has picked an aggregator, select your role."
   ]
  },
  {
   "cell_type": "code",
   "execution_count": 2,
   "metadata": {
    "tags": [
     "init"
    ]
   },
   "outputs": [
    {
     "data": {
      "application/javascript": [
       "\n",
       "    var all_cells = Jupyter.notebook.get_cells();\n",
       "    for (var i = 0; i < all_cells.length; i++) {\n",
       "        var cell = all_cells[i];\n",
       "        if (\"tags\" in cell.metadata) {            \n",
       "            if (cell.metadata[\"tags\"].includes(\"Member\"))\n",
       "                cell.element.hide();\n",
       "            if (cell.metadata[\"tags\"].includes(\"Aggregator\"))\n",
       "                cell.element.hide();\n",
       "        }\n",
       "    }\n",
       "    "
      ],
      "text/plain": [
       "<IPython.core.display.Javascript object>"
      ]
     },
     "metadata": {},
     "output_type": "display_data"
    },
    {
     "data": {
      "application/vnd.jupyter.widget-view+json": {
       "model_id": "467b03f4c6f244879f2274b0bba90d4e",
       "version_major": 2,
       "version_minor": 0
      },
      "text/plain": [
       "ToggleButtons(description='Role', options=('Aggregator', 'Member'), value=None)"
      ]
     },
     "metadata": {},
     "output_type": "display_data"
    },
    {
     "data": {
      "application/javascript": [
       "\n",
       "    var choice = \"Aggregator\";\n",
       "\n",
       "    var all_cells = Jupyter.notebook.get_cells();\n",
       "    for (var i = 0; i < all_cells.length; i++) {\n",
       "        var cell = all_cells[i];\n",
       "\n",
       "        if (\"tags\" in cell.metadata) {            \n",
       "            if (choice === \"Aggregator\") {\n",
       "                if (cell.metadata[\"tags\"].includes(\"Member\")) {\n",
       "                    cell.element.hide();\n",
       "                } else if (cell.metadata[\"tags\"].includes(\"Aggregator\")) {\n",
       "                    cell.element.show();\n",
       "                }\n",
       "            } else if (choice === \"Member\") {\n",
       "                if (cell.metadata[\"tags\"].includes(\"Aggregator\")) {\n",
       "                    cell.element.hide();\n",
       "                } else if (cell.metadata[\"tags\"].includes(\"Member\")) {\n",
       "                    cell.element.show();\n",
       "                }\n",
       "            }\n",
       "        }\n",
       "    }\n",
       "    "
      ],
      "text/plain": [
       "<IPython.core.display.Javascript object>"
      ]
     },
     "metadata": {},
     "output_type": "display_data"
    },
    {
     "data": {
      "application/javascript": [
       "\n",
       "    var choice = \"Member\";\n",
       "\n",
       "    var all_cells = Jupyter.notebook.get_cells();\n",
       "    for (var i = 0; i < all_cells.length; i++) {\n",
       "        var cell = all_cells[i];\n",
       "\n",
       "        if (\"tags\" in cell.metadata) {            \n",
       "            if (choice === \"Aggregator\") {\n",
       "                if (cell.metadata[\"tags\"].includes(\"Member\")) {\n",
       "                    cell.element.hide();\n",
       "                } else if (cell.metadata[\"tags\"].includes(\"Aggregator\")) {\n",
       "                    cell.element.show();\n",
       "                }\n",
       "            } else if (choice === \"Member\") {\n",
       "                if (cell.metadata[\"tags\"].includes(\"Aggregator\")) {\n",
       "                    cell.element.hide();\n",
       "                } else if (cell.metadata[\"tags\"].includes(\"Member\")) {\n",
       "                    cell.element.show();\n",
       "                }\n",
       "            }\n",
       "        }\n",
       "    }\n",
       "    "
      ],
      "text/plain": [
       "<IPython.core.display.Javascript object>"
      ]
     },
     "metadata": {},
     "output_type": "display_data"
    }
   ],
   "source": [
    "from ipywidgets import ToggleButtons\n",
    "from IPython.display import Javascript, display, HTML, clear_output\n",
    "\n",
    "def hide_tagged_cells():\n",
    "    script = \"\"\"\n",
    "    var all_cells = Jupyter.notebook.get_cells();\n",
    "    for (var i = 0; i < all_cells.length; i++) {\n",
    "        var cell = all_cells[i];\n",
    "        if (\"tags\" in cell.metadata) {            \n",
    "            if (cell.metadata[\"tags\"].includes(\"Member\"))\n",
    "                cell.element.hide();\n",
    "            if (cell.metadata[\"tags\"].includes(\"Aggregator\"))\n",
    "                cell.element.hide();\n",
    "        }\n",
    "    }\n",
    "    \"\"\"\n",
    "    display(Javascript(script))\n",
    "\n",
    "def hide_current_cell():\n",
    "    js_hide_current = \"\"\"$('div.cell.code_cell.rendered.selected').find(\"div.inner_cell\").hide();\"\"\"\n",
    "    display(Javascript(js_hide_current))\n",
    "\n",
    "def hide_init_cell():\n",
    "    script = \"\"\"\n",
    "    var all_cells = Jupyter.notebook.get_cells();\n",
    "    for (var i = 0; i < all_cells.length; i++) {\n",
    "        var cell = all_cells[i];\n",
    "        if (\"tags\" in cell.metadata) {\n",
    "            if (cell.metadata[\"tags\"].includes(\"Init\")) {            \n",
    "                cell.element.find(\"div.input\").hide();\n",
    "            }\n",
    "        }\n",
    "    }\n",
    "    \"\"\"\n",
    "    display(Javascript(script))\n",
    "\n",
    "def hide_toggle(value):\n",
    "    choice = value[\"new\"]\n",
    "    script = \"\"\"\n",
    "    var choice = \"{choice}\";\"\"\".format(\n",
    "        choice=choice,\n",
    "    )\n",
    "    script += \"\"\"\n",
    "\n",
    "    var all_cells = Jupyter.notebook.get_cells();\n",
    "    for (var i = 0; i < all_cells.length; i++) {\n",
    "        var cell = all_cells[i];\n",
    "\n",
    "        if (\"tags\" in cell.metadata) {            \n",
    "            if (choice === \"Aggregator\") {\n",
    "                if (cell.metadata[\"tags\"].includes(\"Member\")) {\n",
    "                    cell.element.hide();\n",
    "                } else if (cell.metadata[\"tags\"].includes(\"Aggregator\")) {\n",
    "                    cell.element.show();\n",
    "                }\n",
    "            } else if (choice === \"Member\") {\n",
    "                if (cell.metadata[\"tags\"].includes(\"Aggregator\")) {\n",
    "                    cell.element.hide();\n",
    "                } else if (cell.metadata[\"tags\"].includes(\"Member\")) {\n",
    "                    cell.element.show();\n",
    "                }\n",
    "            }\n",
    "        }\n",
    "    }\n",
    "    \"\"\"\n",
    "    display(Javascript(script))\n",
    "\n",
    "def on_click(value):\n",
    "    hide_toggle(value)\n",
    "\n",
    "button = ToggleButtons(\n",
    "    options=['Aggregator', 'Member'],\n",
    "    value=None,\n",
    "    description='Role',\n",
    "    disabled=False\n",
    ")\n",
    "\n",
    "hide_tagged_cells()\n",
    "button.observe(on_click, 'value')\n",
    "display(button)\n",
    "#hide_current_cell()"
   ]
  },
  {
   "cell_type": "markdown",
   "metadata": {
    "tags": [
     "Aggregator"
    ]
   },
   "source": [
    "The federation API for the aggregator is as follows.\n",
    "\n",
    "```python \n",
    "class FederationAggregator:\n",
    "     # Initialize a Federation instance using your username\n",
    "    def __init__(self, username):\n",
    "\n",
    "    # Creates a federation with self.username as the aggregator; \n",
    "    # <members> is a list of usernames who may participate in the federation\n",
    "    def create_federation(self, members):\n",
    "\n",
    "    # Check to see if all the members of the federation have joined\n",
    "    def check_federation(self):\n",
    "        \n",
    "    # Save the public keys of all the federation members by looking up the PKI service\n",
    "    def save_members_info(self):\n",
    "```\n"
   ]
  },
  {
   "cell_type": "markdown",
   "metadata": {
    "tags": [
     "Aggregator"
    ]
   },
   "source": [
    "Create a federation with your teammates as the members."
   ]
  },
  {
   "cell_type": "code",
   "execution_count": null,
   "metadata": {
    "tags": [
     "Aggregator"
    ]
   },
   "outputs": [],
   "source": [
    "from Utils import FederationAggregator\n",
    "\n",
    "# Initialize a federation\n",
    "fed = FederationAggregator(username)\n",
    "\n",
    "# TODO: Add the usernames of the federation members to the list\n",
    "members = [\"\"]\n",
    "\n",
    "# TODO: Create a federation \n",
    "# ..."
   ]
  },
  {
   "cell_type": "markdown",
   "metadata": {
    "tags": [
     "Aggregator"
    ]
   },
   "source": [
    "Check if everyone has joined the federation."
   ]
  },
  {
   "cell_type": "code",
   "execution_count": null,
   "metadata": {
    "tags": [
     "Aggregator"
    ]
   },
   "outputs": [],
   "source": [
    "# TODO\n",
    "# ..."
   ]
  },
  {
   "cell_type": "markdown",
   "metadata": {
    "tags": [
     "Aggregator"
    ]
   },
   "source": [
    "Save the public keys of all the federation members."
   ]
  },
  {
   "cell_type": "code",
   "execution_count": null,
   "metadata": {
    "tags": [
     "Aggregator"
    ]
   },
   "outputs": [],
   "source": [
    "# TODO\n",
    "# ..."
   ]
  },
  {
   "cell_type": "markdown",
   "metadata": {
    "tags": [
     "Member"
    ]
   },
   "source": [
    "The federation API for a participant is as follows.\n",
    "\n",
    "```python \n",
    "class FederationMember:\n",
    "     # Initialize a Federation instance using your username\n",
    "    def __init__(self, username):\n",
    "\n",
    "    # Join the federation created by user <aggregator_username> as a participant\n",
    "    def join_federation(self, aggregator_username):\n",
    "        \n",
    "    # Check to see if all the members of the federation have joined\n",
    "    def check_federation(self):\n",
    "        \n",
    "    # Save the public key of the aggregator by looking up the PKI service\n",
    "    def save_aggregator_info(self):\n",
    "```\n",
    "\n"
   ]
  },
  {
   "cell_type": "markdown",
   "metadata": {
    "tags": [
     "Member"
    ]
   },
   "source": [
    "Join the federation created by your team's aggregator."
   ]
  },
  {
   "cell_type": "code",
   "execution_count": null,
   "metadata": {
    "tags": [
     "Member"
    ]
   },
   "outputs": [],
   "source": [
    "from Utils import FederationMember\n",
    "\n",
    "# Initialize a federation\n",
    "fed = FederationMember(username)\n",
    "\n",
    "# TODO: Add the username of the central aggregator\n",
    "aggregator = \"\"\n",
    "\n",
    "# TODO: Join the federation created by the aggregator\n",
    "# ..."
   ]
  },
  {
   "cell_type": "markdown",
   "metadata": {
    "tags": [
     "Member"
    ]
   },
   "source": [
    "Check if everyone has joined the federation"
   ]
  },
  {
   "cell_type": "code",
   "execution_count": null,
   "metadata": {
    "code_folding": [],
    "tags": [
     "Member"
    ]
   },
   "outputs": [],
   "source": [
    "# TODO\n",
    "# ..."
   ]
  },
  {
   "cell_type": "markdown",
   "metadata": {
    "tags": [
     "Member"
    ]
   },
   "source": [
    "Save the aggregator's public key."
   ]
  },
  {
   "cell_type": "code",
   "execution_count": null,
   "metadata": {
    "tags": [
     "Member"
    ]
   },
   "outputs": [],
   "source": [
    "# TODO: Save the aggregator's key\n",
    "# ..."
   ]
  },
  {
   "cell_type": "markdown",
   "metadata": {
    "tags": [
     "Aggregator"
    ]
   },
   "source": [
    "## Table of Contents\n",
    "Now that we've finished with setup, it's time to start the exercises, based on your role in the federation. This tutorial consists of three exercises:\n",
    "\n",
    "1. [Single Party XGBoost on Single Party Data](./exercise1-aggregator.ipynb)\n",
    "2. [Multiparty XGBoost with Federated Training](./exercise2-aggregator.ipynb)\n",
    "\n",
    "Let's start with the first exercise, [Single Party XGBoost on Single Party Data](./exercise1-aggregator.ipynb)"
   ]
  },
  {
   "cell_type": "markdown",
   "metadata": {
    "tags": [
     "Member"
    ]
   },
   "source": [
    "## Table of Contents\n",
    "Now that we've finished with setup, it's time to start the exercises, based on your role in the federation. This tutorial consists of three exercises:\n",
    "\n",
    "1. [Single Party XGBoost on Single Party Data](./exercise1-member.ipynb)\n",
    "2. [Multiparty XGBoost with Federated Training](./exercise2-member.ipynb)\n",
    "\n",
    "Let's start with the first exercise, [Single Party XGBoost on Single Party Data](./exercise1-member.ipynb)"
   ]
  },
  {
   "cell_type": "code",
   "execution_count": 1,
   "metadata": {
    "init_cell": true,
    "tags": [
     "zero"
    ]
   },
   "outputs": [
    {
     "data": {
      "text/html": [
       "<script>\n",
       "code_show=true; \n",
       "function initialize() {\n",
       "    var all_cells = Jupyter.notebook.get_cells();\n",
       "    for (var i = 0; i < all_cells.length; i++) {\n",
       "        if (\"tags\" in all_cells[i].metadata) {\n",
       "            if (all_cells[i].metadata[\"tags\"].includes(\"init\")) {\n",
       "                Jupyter.notebook.execute_cells([i]);\n",
       "                all_cells[i].element.find(\"div.input\").hide();\n",
       "            }\n",
       "        }\n",
       "    }\n",
       "} \n",
       "$(document).ready(initialize);\n",
       "var all_cells = Jupyter.notebook.get_cells();\n",
       "for (var i = 0; i < all_cells.length; i++) {\n",
       "    if (\"tags\" in all_cells[i].metadata) {\n",
       "        if (all_cells[i].metadata[\"tags\"].includes(\"zero\")) {\n",
       "            all_cells[i].element.hide();\n",
       "        }\n",
       "    }\n",
       "}\n",
       "</script>\n"
      ],
      "text/plain": [
       "<IPython.core.display.HTML object>"
      ]
     },
     "metadata": {},
     "output_type": "display_data"
    }
   ],
   "source": [
    "%%html\n",
    "<script>\n",
    "code_show=true; \n",
    "function initialize() {\n",
    "    var all_cells = Jupyter.notebook.get_cells();\n",
    "    for (var i = 0; i < all_cells.length; i++) {\n",
    "        if (\"tags\" in all_cells[i].metadata) {\n",
    "            if (all_cells[i].metadata[\"tags\"].includes(\"init\")) {\n",
    "                Jupyter.notebook.execute_cells([i]);\n",
    "                all_cells[i].element.find(\"div.input\").hide();\n",
    "            }\n",
    "        }\n",
    "    }\n",
    "} \n",
    "$(document).ready(initialize);\n",
    "var all_cells = Jupyter.notebook.get_cells();\n",
    "for (var i = 0; i < all_cells.length; i++) {\n",
    "    if (\"tags\" in all_cells[i].metadata) {\n",
    "        if (all_cells[i].metadata[\"tags\"].includes(\"zero\")) {\n",
    "            all_cells[i].element.hide();\n",
    "        }\n",
    "    }\n",
    "}\n",
    "</script>"
   ]
  }
 ],
 "metadata": {
  "anaconda-cloud": {},
  "kernelspec": {
   "display_name": "Python 3",
   "language": "python",
   "name": "python3"
  },
  "language_info": {
   "codemirror_mode": {
    "name": "ipython",
    "version": 3
   },
   "file_extension": ".py",
   "mimetype": "text/x-python",
   "name": "python",
   "nbconvert_exporter": "python",
   "pygments_lexer": "ipython3",
   "version": "3.6.8"
  }
 },
 "nbformat": 4,
 "nbformat_minor": 2
}
