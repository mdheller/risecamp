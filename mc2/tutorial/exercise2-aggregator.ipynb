{
 "cells": [
  {
   "cell_type": "markdown",
   "metadata": {},
   "source": [
    "## Multiparty XGBoost with Federated Training\n",
    "We will now discuss running XGBoost in the federated setting. In this setting, in each iteration each party sends a summary of the update made to its model. The central server then aggregates these updates, applies the aggregated update to its model, and broadcasts the new model to all parties. The parties then train locally with the new model and sends the update to the central server.\n",
    "\n",
    "![title](img/exercise2.png)\n",
    "\n",
    "In our project, all this is abstracted away. The central server simply starts the training, and everything else is performed automatically.\n",
    "\n",
    "Import some helper functions."
   ]
  },
  {
   "cell_type": "code",
   "execution_count": null,
   "metadata": {},
   "outputs": [],
   "source": [
    "import pandas as pd\n",
    "import xgboost as xgb\n",
    "import subprocess\n",
    "from Utils import start_job\n",
    "import warnings\n",
    "warnings.filterwarnings('ignore')"
   ]
  },
  {
   "cell_type": "markdown",
   "metadata": {},
   "source": [
    "### Edit hosts.config\n",
    "The `hosts.config` file should contain the IPs and ports of all parties in the federation. \n",
    "Retrieve the IPs of all members in the federation from the PKI and write it to the hosts.config file. We'll need for this communication during federated training."
   ]
  },
  {
   "cell_type": "code",
   "execution_count": null,
   "metadata": {},
   "outputs": [],
   "source": [
    "# TODO: add your username here. Make sure this is the same username you used \n",
    "# to create the federation\n",
    "username = # ..."
   ]
  },
  {
   "cell_type": "code",
   "execution_count": null,
   "metadata": {},
   "outputs": [],
   "source": [
    "# Get the IPs of all members in your federation and add it to hosts.config\n",
    "from Utils import PKI, Federation\n",
    "\n",
    "pki = PKI()\n",
    "fed = Federation()\n",
    "\n",
    "members = fed.get_federation_members(username)\n",
    "\n",
    "with open(\"hosts.config\", \"w+\") as hosts:\n",
    "    for member in members:\n",
    "        IP, key = pki.lookup(member)\n",
    "        \n",
    "        # Write the member's IP address and port 5522 to hosts.config\n",
    "        hosts.write(IP +\":5522\\n\")"
   ]
  },
  {
   "cell_type": "markdown",
   "metadata": {},
   "source": [
    "### Training Script\n",
    "We will now examine the script that will be run for federated training. We've written the training script for this part for you, but have included a copy of it here to give you an idea of our Federated XGBoost API. For the full code look at the `FederatedXGBoost` class in `Utils.py`"
   ]
  },
  {
   "cell_type": "markdown",
   "metadata": {},
   "source": [
    "```python\n",
    "from Utils import FederatedXGBoost\n",
    "\n",
    "# Instantiate a FederatedXGBoost instance\n",
    "fxgb = FederatedXGBoost()\n",
    "\n",
    "# Get number of federating parties\n",
    "print(\"Number of parties in federation: \", fxgb.get_num_parties())\n",
    "\n",
    "# Load training data\n",
    "training_data_path = \"/data/hb/hb_train.csv\"\n",
    "fxgb.load_training_data(training_data_path)\n",
    "\n",
    "# Train a model\n",
    "params = {'max_depth': 3, \"objective\": \"binary:logistic\", \"eval_metric\": [\"error\", \"auc\"]}\n",
    "num_rounds = 100\n",
    "fxgb.train(params, num_rounds)\n",
    "\n",
    "# Save the model\n",
    "fxgb.save_model(\"ex2_model.model\")\n",
    "\n",
    "# Shutdown\n",
    "fxgb.shutdown()\n",
    "```"
   ]
  },
  {
   "cell_type": "markdown",
   "metadata": {},
   "source": [
    "### Start Job\n",
    "After modifying the script, we can start our job! We can use the `start_job()` helper function to do so.\n",
    "`start_job(num_parties)` takes in one parameter:\n",
    "* num_parties: The number of parties in the federation. This should be the same as the number of IPs added to hosts.config\n",
    "\n",
    "The training process should take less than one minute."
   ]
  },
  {
   "cell_type": "code",
   "execution_count": null,
   "metadata": {},
   "outputs": [],
   "source": [
    "print(\"Training underway\")\n",
    "\n",
    "start_job(len(members))\n",
    "\n",
    "print(\"Training finished\")"
   ]
  },
  {
   "cell_type": "markdown",
   "metadata": {},
   "source": [
    "## Model Evaluation\n",
    "We'll now use the model we trained in the previous step to make predictions on our test data. Load in the federated model, preprocess your test data, and evaluate the model with the test data.\n",
    "\n",
    "* Test data for the Higgs boson dataset is at `/data/hb/hb_test.csv`"
   ]
  },
  {
   "cell_type": "code",
   "execution_count": null,
   "metadata": {},
   "outputs": [],
   "source": [
    "model_path = \"ex2_model.model\"\n",
    "multiparty_model = xgb.Booster()\n",
    "multiparty_model.load_model(model_path)"
   ]
  },
  {
   "cell_type": "code",
   "execution_count": null,
   "metadata": {},
   "outputs": [],
   "source": [
    "test_data_path = \"/data/hb/hb_test.csv\"\n",
    "test_data = pd.read_csv(test_data_path, sep=\",\", header=None)\n",
    "y_test = test_data.iloc[:, 0]\n",
    "x_test = test_data.iloc[:, 1:]\n",
    "test_data = xgb.DMatrix(x_test, label=y_test)\n",
    "x_test.head()"
   ]
  },
  {
   "cell_type": "code",
   "execution_count": null,
   "metadata": {},
   "outputs": [],
   "source": [
    "error_str = multiparty_model.eval(test_data)\n",
    "_, error, auc = error_str.split(\"\\t\")\n",
    "\n",
    "# Some string parsing for pretty printing\n",
    "error = float(error.split(\"error:\", 1)[1])\n",
    "accuracy = 1 - error\n",
    "accuracy_percent = str(accuracy * 100)[:5] + \"%\"\n",
    "print(\"Your model achieved %s accuracy \" % accuracy_percent)\n",
    "\n",
    "auc = float(auc.split(\"auc:\", 1)[1])\n",
    "rounded_auc = str(auc)[:5]\n",
    "print(\"Your model achieved an AUC of %s \" % rounded_auc)"
   ]
  }
 ],
 "metadata": {
  "kernelspec": {
   "display_name": "Python 3",
   "language": "python",
   "name": "python3"
  },
  "language_info": {
   "codemirror_mode": {
    "name": "ipython",
    "version": 3
   },
   "file_extension": ".py",
   "mimetype": "text/x-python",
   "name": "python",
   "nbconvert_exporter": "python",
   "pygments_lexer": "ipython3",
   "version": "3.6.8"
  }
 },
 "nbformat": 4,
 "nbformat_minor": 2
}
