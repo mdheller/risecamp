{
 "cells": [
  {
   "cell_type": "markdown",
   "metadata": {},
   "source": [
    "# Table of Contents\n",
    "<div class=\"toc\" style=\"margin-top: 1em;\">\n",
    "   <ul class=\"toc-item\" id=\"toc-level0\">\n",
    "      <li><span><a href=\"#Overview\" data-toc-modified-id=\"Overview\"><span class=\"toc-item-num\">I.&nbsp;&nbsp;</span>Overview of Tutorial</a></span></li>"
   ]
  },
  {
   "cell_type": "markdown",
   "metadata": {},
   "source": [
    "## Overview\n",
    "\n",
    "Welcome to the Clipper tutorial at RISE Camp 2018. This tutorial consists of two independent parts. \n",
    "\n",
    "[Part 1](1-Clipper-API.ipynb) provides a detailed explanation of Clipper, its architecture, and the Python API. You will explore these themes through the deployment of a `scikit-learn` model that classifies flowers based on their Sepal Length and Sepal Width.\n",
    "\n",
    "[Part 2](2-Example-App.ipynb) will walk you through a more realistic use case of Clipper by deploying a PyTorch container, as well as a custom container running a Darknet YOLO V3 (You Only Look Once) model. The PyTorch model is a SqueezeNet model that will allow you to classify images of your choosing. The Darknet YOLO (You Only Look Once) model can be used to draw bounding boxes around objects and label these objects in images. This will be a great opportunity to observe the Clipper API at work, as well as a chance to play around with some fun models.\n",
    "\n",
    "Although both parts are independent, we recommend doing them in order!"
   ]
  },
  {
   "cell_type": "markdown",
   "metadata": {},
   "source": [
    "### Jupyter Notebooks\n",
    "\n",
    "Throughout this tutorial, you will be using [Jupyter Notebooks](http://jupyter.org/). If you have never used a Jupyter notebook before, you may find it useful to spend a few minutes looking over the documentation. To get you started, two useful commands are:\n",
    "\n",
    "+ Shift-Enter will execute a cell. If it is a code cell, it will run the code. If it is a Markdown cell, it will render the Markdown.\n",
    "+ You can run shell commands directly in the notebook by prefixing them with an exclamation point. You will see several examples of this throughput the tutorial."
   ]
  },
  {
   "cell_type": "code",
   "execution_count": null,
   "metadata": {},
   "outputs": [],
   "source": [
    "# You can run shell commands directly\n",
    "!ls"
   ]
  },
  {
   "cell_type": "code",
   "execution_count": null,
   "metadata": {},
   "outputs": [],
   "source": [
    "# This is a code cell, you can shift-enter to execute it\n",
    "print(\"Hello Clipper!\")"
   ]
  }
 ],
 "metadata": {
  "kernelspec": {
   "display_name": "Python 3",
   "language": "python",
   "name": "python3"
  },
  "language_info": {
   "codemirror_mode": {
    "name": "ipython",
    "version": 3
   },
   "file_extension": ".py",
   "mimetype": "text/x-python",
   "name": "python",
   "nbconvert_exporter": "python",
   "pygments_lexer": "ipython3",
   "version": "3.6.3"
  }
 },
 "nbformat": 4,
 "nbformat_minor": 2
}
